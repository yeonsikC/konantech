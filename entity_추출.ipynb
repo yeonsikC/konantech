{
 "cells": [
  {
   "cell_type": "code",
   "execution_count": 1,
   "metadata": {},
   "outputs": [],
   "source": [
    "import pandas as pd\n",
    "from collections import Counter"
   ]
  },
  {
   "cell_type": "markdown",
   "metadata": {},
   "source": [
    "# txt파일 두 개에서 서로 간의 있는 단어 없는 단어 추출"
   ]
  },
  {
   "cell_type": "code",
   "execution_count": 19,
   "metadata": {},
   "outputs": [],
   "source": [
    "ner1 = pd.read_csv(r'C:\\Users\\yeonsik\\Desktop\\세명대\\SMU\\이전ner-user.txt',header=None)\n",
    "ner1 = list(ner1[0])\n",
    "for i in range(len(ner1)):\n",
    "    #ner1[i] = str(ner1[i])\n",
    "    ner1[i] = ner1[i].lower()\n",
    "ner2 = pd.read_csv(r'C:\\Users\\yeonsik\\Desktop\\세명대\\SMU\\ner-user.txt',header=None)\n",
    "ner2 = list(ner2[0])\n",
    "for i in range(len(ner2)):\n",
    "    #ner2[i] = str(ner2[i])\n",
    "    ner2[i] = ner2[i].lower()\n",
    "my_ner1 = Counter(ner1)\n",
    "my_ner2 = Counter(ner2)\n",
    "my1 = myㅊ_ner1 - my_ner2\n",
    "my2 = my_ner2 - my_ner1\n",
    "pd.DataFrame(my1.keys()).to_csv(r'C:\\Users\\yeonsik\\Desktop\\이전-현재.ner-user.txt', index=None, header=None)\n",
    "pd.DataFrame(my2.keys()).to_csv(r'C:\\Users\\yeonsik\\Desktop\\현재-이전.ner-user.txt', index=None, header=None)"
   ]
  },
  {
   "cell_type": "markdown",
   "metadata": {},
   "source": [
    "# excel파일에서 엔티티, 불용어, 패턴 추출"
   ]
  },
  {
   "cell_type": "code",
   "execution_count": 3,
   "metadata": {},
   "outputs": [],
   "source": [
    "def excel_to_dictionary(path,filename,colname):\n",
    "    path = path\n",
    "    df = pd.read_excel(path+ '\\\\'+ filename)\n",
    "    if colname not in df.columns:\n",
    "        print(\"해당 colname은 존재하지 않습니다.\")\n",
    "    else:\n",
    "        df = pd.DataFrame({colname : df[colname]})\n",
    "        df = df.dropna(axis=0)\n",
    "        df[colname] = df[colname].apply(lambda x : x.strip())\n",
    "        pattern_or_syn = (\"=\" in df[colname].iloc[0]) or (\",\" in df[colname].iloc[0])\n",
    "        if pattern_or_syn:\n",
    "            set_entities = df[colname]\n",
    "        else:\n",
    "            entity = df[colname].apply(lambda x : x.split())\n",
    "            entities = []\n",
    "            for str in entity:\n",
    "                for ent in str:\n",
    "                    entities.append(ent.lower())\n",
    "            set_entities = set(entities)\n",
    "        print(\"전체 단어 수 : {}\".format(len(set_entities)))\n",
    "        ner = pd.DataFrame(set_entities)\n",
    "        ner.to_csv(path+'\\\\'+colname+'.txt',header=None, index=False)"
   ]
  },
  {
   "cell_type": "code",
   "execution_count": 12,
   "metadata": {},
   "outputs": [
    {
     "name": "stdout",
     "output_type": "stream",
     "text": [
      "전체 단어 수 : 71\n"
     ]
    }
   ],
   "source": [
    "path = r'C:\\Users\\yeonsik\\Desktop\\알바\\김다은\\공통질문'\n",
    "filename = '20200310_대표질문추출_최종_최연식.xlsx'\n",
    "colname = '동의어'\n",
    "excel_to_dictionary(path, filename, colname)"
   ]
  },
  {
   "cell_type": "code",
   "execution_count": 114,
   "metadata": {},
   "outputs": [
    {
     "data": {
      "text/plain": [
       "False"
      ]
     },
     "execution_count": 114,
     "metadata": {},
     "output_type": "execute_result"
    }
   ],
   "source": [
    "\"=\" in \"방법\""
   ]
  },
  {
   "cell_type": "code",
   "execution_count": 88,
   "metadata": {},
   "outputs": [],
   "source": [
    "text = \"빌릴 수 있나요 = 대여\""
   ]
  },
  {
   "cell_type": "code",
   "execution_count": 103,
   "metadata": {},
   "outputs": [
    {
     "data": {
      "text/plain": [
       "True"
      ]
     },
     "execution_count": 103,
     "metadata": {},
     "output_type": "execute_result"
    }
   ],
   "source": [
    "\"=\" in text"
   ]
  }
 ],
 "metadata": {
  "kernelspec": {
   "display_name": "Python 3",
   "language": "python",
   "name": "python3"
  },
  "language_info": {
   "codemirror_mode": {
    "name": "ipython",
    "version": 3
   },
   "file_extension": ".py",
   "mimetype": "text/x-python",
   "name": "python",
   "nbconvert_exporter": "python",
   "pygments_lexer": "ipython3",
   "version": "3.7.4"
  }
 },
 "nbformat": 4,
 "nbformat_minor": 2
}
